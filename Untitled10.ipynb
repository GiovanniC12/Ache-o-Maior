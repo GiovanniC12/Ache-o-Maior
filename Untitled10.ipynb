{
  "nbformat": 4,
  "nbformat_minor": 0,
  "metadata": {
    "colab": {
      "provenance": [],
      "authorship_tag": "ABX9TyMcsaP/+MGyzcwyuY+Ns6/R",
      "include_colab_link": true
    },
    "kernelspec": {
      "name": "python3",
      "display_name": "Python 3"
    },
    "language_info": {
      "name": "python"
    }
  },
  "cells": [
    {
      "cell_type": "markdown",
      "metadata": {
        "id": "view-in-github",
        "colab_type": "text"
      },
      "source": [
        "<a href=\"https://colab.research.google.com/github/GiovanniC12/Ache-o-Maior/blob/main/Untitled10.ipynb\" target=\"_parent\"><img src=\"https://colab.research.google.com/assets/colab-badge.svg\" alt=\"Open In Colab\"/></a>"
      ]
    },
    {
      "cell_type": "code",
      "execution_count": null,
      "metadata": {
        "id": "_XUaB519JgdL"
      },
      "outputs": [],
      "source": [
        "import tensorflow as tf\n",
        "import tensorflow_datasets as tfds\n",
        "import os\n",
        "import zipfile\n"
      ]
    },
    {
      "cell_type": "code",
      "source": [
        "# Baixar o dataset Cats vs Dogs do TensorFlow Datasets\n",
        "dataset, metadata = tfds.load('cats_vs_dogs', as_supervised=True, with_info=True)\n",
        "train_dataset = dataset['train']\n",
        "\n",
        "# Criar pastas locais para salvar imagens\n",
        "base_dir = \"/content/cats_vs_dogs\"\n",
        "os.makedirs(base_dir, exist_ok=True)\n",
        "\n",
        "cat_dir = os.path.join(base_dir, 'cats')\n",
        "dog_dir = os.path.join(base_dir, 'dogs')\n",
        "os.makedirs(cat_dir, exist_ok=True)\n",
        "os.makedirs(dog_dir, exist_ok=True)\n",
        "\n",
        "# Salvar as imagens localmente\n",
        "for i, (image, label) in enumerate(train_dataset):\n",
        "    label_name = 'cats' if label == 0 else 'dogs'\n",
        "    image_path = os.path.join(base_dir, label_name, f'{label_name}_{i}.jpg')\n",
        "    tf.keras.utils.save_img(image_path, image)\n",
        "\n",
        "print(f\"Imagens salvas em {base_dir}\")\n"
      ],
      "metadata": {
        "id": "qCVOJBrNJjC7"
      },
      "execution_count": null,
      "outputs": []
    },
    {
      "cell_type": "code",
      "source": [
        "from tensorflow.keras.preprocessing.image import ImageDataGenerator\n",
        "\n",
        "# Diretório das imagens\n",
        "data_dir = \"/content/cats_vs_dogs\"\n",
        "\n",
        "# Criar geradores de dados para treino e validação\n",
        "train_datagen = ImageDataGenerator(rescale=1./255, validation_split=0.2)\n",
        "\n",
        "train_generator = train_datagen.flow_from_directory(\n",
        "    data_dir,\n",
        "    target_size=(150, 150),  # Ajuste o tamanho conforme necessário\n",
        "    batch_size=32,\n",
        "    class_mode='binary',\n",
        "    subset='training'\n",
        ")\n",
        "\n",
        "validation_generator = train_datagen.flow_from_directory(\n",
        "    data_dir,\n",
        "    target_size=(150, 150),\n",
        "    batch_size=32,\n",
        "    class_mode='binary',\n",
        "    subset='validation'\n",
        ")\n"
      ],
      "metadata": {
        "id": "HmpE_X-BJmZ-"
      },
      "execution_count": null,
      "outputs": []
    },
    {
      "cell_type": "code",
      "source": [
        "from tensorflow.keras.applications import MobileNetV2\n",
        "from tensorflow.keras import layers, models\n",
        "\n",
        "# Carregar o modelo base\n",
        "base_model = MobileNetV2(input_shape=(150, 150, 3), include_top=False, weights='imagenet')\n",
        "base_model.trainable = False\n",
        "\n",
        "# Adicionar camadas superiores\n",
        "model = models.Sequential([\n",
        "    base_model,\n",
        "    layers.GlobalAveragePooling2D(),\n",
        "    layers.Dense(1, activation='sigmoid')  # Classificação binária (gato/cachorro)\n",
        "])\n",
        "\n",
        "model.compile(optimizer='adam', loss='binary_crossentropy', metrics=['accuracy'])\n",
        "\n",
        "# Treinar o modelo\n",
        "history = model.fit(\n",
        "    train_generator,\n",
        "    epochs=10,\n",
        "    validation_data=validation_generator\n",
        ")\n"
      ],
      "metadata": {
        "id": "bOFq2yvIJryN"
      },
      "execution_count": null,
      "outputs": []
    },
    {
      "cell_type": "code",
      "source": [
        "from tensorflow.keras.preprocessing.image import ImageDataGenerator\n",
        "\n",
        "# Diretório das imagens salvas\n",
        "data_dir = \"/content/cats_vs_dogs\"  # Caminho onde as imagens foram salvas\n",
        "\n",
        "# Criar geradores de dados com aumento de dados e divisão para treino/validação\n",
        "train_datagen = ImageDataGenerator(\n",
        "    rescale=1.0/255,       # Normalização dos pixels (0-1)\n",
        "    rotation_range=40,     # Rotação aleatória de até 40 graus\n",
        "    width_shift_range=0.2, # Translação horizontal\n",
        "    height_shift_range=0.2,# Translação vertical\n",
        "    shear_range=0.2,       # Distorção em cisalhamento\n",
        "    zoom_range=0.2,        # Zoom aleatório\n",
        "    horizontal_flip=True,  # Inverter horizontalmente\n",
        "    fill_mode='nearest',   # Preenchimento para áreas ausentes\n",
        "    validation_split=0.2   # Reservar 20% dos dados para validação\n",
        ")\n",
        "\n",
        "# Gerador para dados de treino\n",
        "train_generator = train_datagen.flow_from_directory(\n",
        "    data_dir,               # Diretório base das imagens\n",
        "    target_size=(150, 150), # Tamanho das imagens\n",
        "    batch_size=32,          # Tamanho do lote\n",
        "    class_mode='binary',    # Classificação binária (gato/cachorro)\n",
        "    subset='training'       # Subconjunto para treino\n",
        ")\n",
        "\n",
        "# Gerador para dados de validação\n",
        "validation_generator = train_datagen.flow_from_directory(\n",
        "    data_dir,               # Diretório base das imagens\n",
        "    target_size=(150, 150), # Tamanho das imagens\n",
        "    batch_size=32,          # Tamanho do lote\n",
        "    class_mode='binary',    # Classificação binária\n",
        "    subset='validation'     # Subconjunto para validação\n",
        ")\n"
      ],
      "metadata": {
        "id": "SC9Eyi57JxMH"
      },
      "execution_count": null,
      "outputs": []
    }
  ]
}